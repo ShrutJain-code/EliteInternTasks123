{
  "nbformat": 4,
  "nbformat_minor": 0,
  "metadata": {
    "colab": {
      "provenance": []
    },
    "kernelspec": {
      "name": "python3",
      "display_name": "Python 3"
    },
    "language_info": {
      "name": "python"
    }
  },
  "cells": [
    {
      "cell_type": "code",
      "source": [
        "# Step 1: Install required library\n",
        "# !pip install scikit-learn pandas"
      ],
      "metadata": {
        "id": "Lma_NxlQgQxD"
      },
      "execution_count": 11,
      "outputs": []
    },
    {
      "cell_type": "code",
      "source": [
        "# Step 2: Import required libraries\n",
        "import pandas as pd\n",
        "from sklearn.metrics.pairwise import cosine_similarity\n",
        "from sklearn.preprocessing import StandardScaler"
      ],
      "metadata": {
        "id": "yZMbHkkxgW8d"
      },
      "execution_count": 12,
      "outputs": []
    },
    {
      "cell_type": "code",
      "source": [
        "\n",
        "# Step 3: Sample movie ratings dataset (can be replaced with your own)\n",
        "data = {\n",
        "    'User': ['A', 'A', 'A', 'B', 'B', 'C', 'C', 'D'],\n",
        "    'Movie': ['Titanic', 'Avatar', 'Inception', 'Titanic', 'Inception', 'Avatar', 'Inception', 'Titanic'],\n",
        "    'Rating': [5, 4, 5, 4, 3, 2, 5, 4]\n",
        "}\n",
        "\n",
        "df = pd.DataFrame(data)\n",
        "print(df)"
      ],
      "metadata": {
        "colab": {
          "base_uri": "https://localhost:8080/"
        },
        "id": "2iTUx9Kqg4eS",
        "outputId": "aa490640-ca0f-405b-dd3d-0a272db0ce59"
      },
      "execution_count": 20,
      "outputs": [
        {
          "output_type": "stream",
          "name": "stdout",
          "text": [
            "  User      Movie  Rating\n",
            "0    A    Titanic       5\n",
            "1    A     Avatar       4\n",
            "2    A  Inception       5\n",
            "3    B    Titanic       4\n",
            "4    B  Inception       3\n",
            "5    C     Avatar       2\n",
            "6    C  Inception       5\n",
            "7    D    Titanic       4\n"
          ]
        }
      ]
    },
    {
      "cell_type": "code",
      "source": [
        "\n",
        "# Step 4: Pivot table - user-item matrix\n",
        "pivot = df.pivot_table(index='User', columns='Movie', values='Rating').fillna(0)\n",
        "print(pivot)"
      ],
      "metadata": {
        "colab": {
          "base_uri": "https://localhost:8080/"
        },
        "id": "FgzsHLjdg6Qn",
        "outputId": "4178664b-d19e-473f-9e13-2ca29fc58ba1"
      },
      "execution_count": 21,
      "outputs": [
        {
          "output_type": "stream",
          "name": "stdout",
          "text": [
            "Movie  Avatar  Inception  Titanic\n",
            "User                             \n",
            "A         4.0        5.0      5.0\n",
            "B         0.0        3.0      4.0\n",
            "C         2.0        5.0      0.0\n",
            "D         0.0        0.0      4.0\n"
          ]
        }
      ]
    },
    {
      "cell_type": "code",
      "source": [
        "# Step 5: Compute cosine similarity between users\n",
        "similarity = cosine_similarity(pivot)\n",
        "similarity_df = pd.DataFrame(similarity, index=pivot.index, columns=pivot.index)\n",
        "\n",
        "print(\"User Similarity Matrix:\\n\")\n",
        "print(similarity_df)"
      ],
      "metadata": {
        "colab": {
          "base_uri": "https://localhost:8080/"
        },
        "id": "wowLYJ0vg957",
        "outputId": "b69431b1-82ea-4e7d-e035-1f9c6010a20c"
      },
      "execution_count": 22,
      "outputs": [
        {
          "output_type": "stream",
          "name": "stdout",
          "text": [
            "User Similarity Matrix:\n",
            "\n",
            "User         A         B         C         D\n",
            "User                                        \n",
            "A     1.000000  0.861640  0.754298  0.615457\n",
            "B     0.861640  1.000000  0.557086  0.800000\n",
            "C     0.754298  0.557086  1.000000  0.000000\n",
            "D     0.615457  0.800000  0.000000  1.000000\n"
          ]
        }
      ]
    },
    {
      "cell_type": "code",
      "source": [
        "# Step 6: Make a basic recommendation function\n",
        "def recommend_movies(user):\n",
        "    similar_users = similarity_df[user].sort_values(ascending=False)\n",
        "    recommendations = pd.Series(dtype=float)\n",
        "\n",
        "    for sim_user, score in similar_users.items():\n",
        "        if sim_user == user or score < 0.1:\n",
        "            continue\n",
        "        user_ratings = pivot.loc[sim_user]\n",
        "        recommendations = recommendations.add(user_ratings * score, fill_value=0)\n",
        "\n",
        "    # Remove movies already rated by user\n",
        "    rated = pivot.loc[user]\n",
        "    recommendations = recommendations.drop(rated[rated > 0].index, errors='ignore')\n",
        "\n",
        "    return recommendations.sort_values(ascending=False).head(3)"
      ],
      "metadata": {
        "id": "1R8bi9NkhEZR"
      },
      "execution_count": 23,
      "outputs": []
    },
    {
      "cell_type": "code",
      "source": [
        "# Step 7: Example recommendation for User 'A'\n",
        "print(\"\\nTop Recommendations for User B:\")\n",
        "print(recommend_movies('B'))\n"
      ],
      "metadata": {
        "colab": {
          "base_uri": "https://localhost:8080/"
        },
        "id": "QGDHpWCzerOv",
        "outputId": "2b6b98a0-d5e9-4efa-d3ed-5dd9efefdfe7"
      },
      "execution_count": 26,
      "outputs": [
        {
          "output_type": "stream",
          "name": "stdout",
          "text": [
            "\n",
            "Top Recommendations for User B:\n",
            "Movie\n",
            "Avatar    4.560734\n",
            "dtype: float64\n"
          ]
        }
      ]
    },
    {
      "cell_type": "code",
      "source": [],
      "metadata": {
        "id": "kIYRcl_Veszv"
      },
      "execution_count": 17,
      "outputs": []
    }
  ]
}