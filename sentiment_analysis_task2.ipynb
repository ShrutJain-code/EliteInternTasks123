{
 "cells": [
  {
   "cell_type": "code",
   "execution_count": 1,
   "id": "24b226f7-37d0-466a-9b58-e29d3d0ead15",
   "metadata": {},
   "outputs": [],
   "source": [
    "# Step 1: Import Libraries\n",
    "import pandas as pd\n",
    "import numpy as np\n",
    "import re\n",
    "import matplotlib.pyplot as plt\n",
    "import seaborn as sns\n",
    "\n",
    "from sklearn.model_selection import train_test_split\n",
    "from sklearn.feature_extraction.text import TfidfVectorizer\n",
    "from sklearn.linear_model import LogisticRegression\n",
    "from sklearn.metrics import accuracy_score, confusion_matrix, classification_report\n"
   ]
  },
  {
   "cell_type": "code",
   "execution_count": 2,
   "id": "3f931d58-976e-4c1f-a5e2-194a8a07c6a4",
   "metadata": {},
   "outputs": [
    {
     "name": "stdout",
     "output_type": "stream",
     "text": [
      "Dataset Preview:\n",
      "                                              review  sentiment\n",
      "0           I love this product, it works perfectly!          1\n",
      "1  Worst purchase I have ever made. Completely us...          0\n",
      "2  Amazing quality and fast delivery. Very satisf...          1\n",
      "3  Terrible experience, the product broke in a week.          0\n",
      "4  Good value for the money. Would recommend to o...          1\n"
     ]
    }
   ],
   "source": [
    "# Step 2: Load Dataset\n",
    "df = pd.read_csv(\"C:\\\\Users\\\\ASUS\\\\Downloads\\\\customer_reviews.csv\")\n",
    "print(\"Dataset Preview:\")\n",
    "print(df.head())"
   ]
  },
  {
   "cell_type": "code",
   "execution_count": 3,
   "id": "928f8f4c-9918-4ad6-8a70-585fbc22d094",
   "metadata": {},
   "outputs": [
    {
     "name": "stdout",
     "output_type": "stream",
     "text": [
      "                                              review  sentiment  \\\n",
      "0           I love this product, it works perfectly!          1   \n",
      "1  Worst purchase I have ever made. Completely us...          0   \n",
      "2  Amazing quality and fast delivery. Very satisf...          1   \n",
      "3  Terrible experience, the product broke in a week.          0   \n",
      "4  Good value for the money. Would recommend to o...          1   \n",
      "5     I am not happy with the product. Disappointed.          0   \n",
      "6      Excellent customer service and great product!          1   \n",
      "7        The product does not match the description.          0   \n",
      "8  Very happy with my purchase. Everything as exp...          1   \n",
      "9        Do not waste your money. Very poor quality.          0   \n",
      "\n",
      "                                        clean_review  \n",
      "0             i love this product it works perfectly  \n",
      "1  worst purchase i have ever made completely use...  \n",
      "2   amazing quality and fast delivery very satisfied  \n",
      "3    terrible experience the product broke in a week  \n",
      "4  good value for the money would recommend to ot...  \n",
      "5       i am not happy with the product disappointed  \n",
      "6       excellent customer service and great product  \n",
      "7         the product does not match the description  \n",
      "8  very happy with my purchase everything as expe...  \n",
      "9          do not waste your money very poor quality  \n"
     ]
    }
   ],
   "source": [
    "# Step 3: Preprocessing Function\n",
    "def clean_text(text):\n",
    "    text = text.lower()\n",
    "    text = re.sub(r'<.*?>', '', text)\n",
    "    text = re.sub(r'[^a-zA-Z\\s]', '', text)\n",
    "    text = re.sub(r'\\s+', ' ', text).strip()\n",
    "    return text\n",
    "    \n",
    "df['clean_review'] = df['review'].apply(clean_text)\n",
    "print(df)\n"
   ]
  },
  {
   "cell_type": "code",
   "execution_count": 4,
   "id": "e2ef1992-f835-495f-8be7-9c2775afa57f",
   "metadata": {},
   "outputs": [],
   "source": [
    "# Step 4: TF-IDF Vectorization\n",
    "tfidf = TfidfVectorizer(max_features=5000)\n",
    "X = tfidf.fit_transform(df['clean_review']).toarray()\n",
    "y = df['sentiment']"
   ]
  },
  {
   "cell_type": "code",
   "execution_count": 5,
   "id": "1e9f09b5-1ad2-4642-a038-151e851a7661",
   "metadata": {},
   "outputs": [],
   "source": [
    "# Step 5: Split Dataset\n",
    "X_train, X_test, y_train, y_test = train_test_split(X, y, test_size=0.2, random_state=42)\n",
    "\n",
    "# Step 6: Logistic Regression Model\n",
    "model = LogisticRegression()\n",
    "model.fit(X_train, y_train)\n",
    "y_pred = model.predict(X_test)\n"
   ]
  },
  {
   "cell_type": "code",
   "execution_count": 6,
   "id": "54b3ea15-cff7-4484-b584-f105aa3e3f8e",
   "metadata": {},
   "outputs": [
    {
     "name": "stdout",
     "output_type": "stream",
     "text": [
      "Accuracy: 0.0\n",
      "\n",
      "Classification Report:\n",
      "               precision    recall  f1-score   support\n",
      "\n",
      "           0       0.00      0.00      0.00       1.0\n",
      "           1       0.00      0.00      0.00       1.0\n",
      "\n",
      "    accuracy                           0.00       2.0\n",
      "   macro avg       0.00      0.00      0.00       2.0\n",
      "weighted avg       0.00      0.00      0.00       2.0\n",
      "\n"
     ]
    },
    {
     "data": {
      "image/png": "[encoded data removed]",
      "text/plain": [
       "<Figure size 640x480 with 2 Axes>"
      ]
     },
     "metadata": {},
     "output_type": "display_data"
    }
   ],
   "source": [
    "\n",
    "# Step 7: Model Evaluation\n",
    "print(\"Accuracy:\", accuracy_score(y_test, y_pred))\n",
    "print(\"\\nClassification Report:\\n\", classification_report(y_test, y_pred))\n",
    "\n",
    "# Confusion Matrix\n",
    "cm = confusion_matrix(y_test, y_pred)\n",
    "sns.heatmap(cm, annot=True, fmt='d', cmap='Blues', xticklabels=['Negative','Positive'], yticklabels=['Negative','Positive'])\n",
    "plt.xlabel('Predicted')\n",
    "plt.ylabel('Actual')\n",
    "plt.title('Confusion Matrix')\n",
    "plt.show()\n"
   ]
  },
  {
   "cell_type": "code",
   "execution_count": 7,
   "id": "11caafca-afda-4f0a-b59f-5aa9854fe0c8",
   "metadata": {},
   "outputs": [
    {
     "name": "stdout",
     "output_type": "stream",
     "text": [
      "Sample Sentiment Prediction: 1\n"
     ]
    }
   ],
   "source": [
    "# Step 8: Predicting New Review\n",
    "sample_review = [\"The product is absolutely fantastic and worth every penny.\"]\n",
    "sample_cleaned = [clean_text(r) for r in sample_review]\n",
    "sample_tfidf = tfidf.transform(sample_cleaned).toarray()\n",
    "\n",
    "print(\"Sample Sentiment Prediction:\", model.predict(sample_tfidf)[0])"
   ]
  },
  {
   "cell_type": "code",
   "execution_count": null,
   "id": "b9c475bc-4a2b-4637-931a-0bb438e05a45",
   "metadata": {},
   "outputs": [],
   "source": []
  }
 ],
 "metadata": {
  "kernelspec": {
   "display_name": "Python [conda env:base] *",
   "language": "python",
   "name": "conda-base-py"
  },
  "language_info": {
   "codemirror_mode": {
    "name": "ipython",
    "version": 3
   },
   "file_extension": ".py",
   "mimetype": "text/x-python",
   "name": "python",
   "nbconvert_exporter": "python",
   "pygments_lexer": "ipython3",
   "version": "3.13.5"
  }
 },
 "nbformat": 4,
 "nbformat_minor": 5
}
